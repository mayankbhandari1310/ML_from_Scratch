{
 "cells": [
  {
   "cell_type": "code",
   "execution_count": 1,
   "metadata": {},
   "outputs": [],
   "source": [
    "import pandas as pd\n",
    "import matplotlib.pyplot as plt\n",
    "import numpy as np\n",
    "%matplotlib inline"
   ]
  },
  {
   "cell_type": "code",
   "execution_count": 2,
   "metadata": {},
   "outputs": [
    {
     "name": "stdout",
     "output_type": "stream",
     "text": [
      "<class 'numpy.ndarray'> <class 'pandas.core.frame.DataFrame'> (5043, 28) (5043, 28)\n"
     ]
    }
   ],
   "source": [
    "ds = pd.read_csv(\"MovieDataset/movie_metadata.csv\")\n",
    "data = ds.values\n",
    "\n",
    "ds.head(7)\n",
    "print(type(data), type(ds), data.shape, ds.shape)"
   ]
  },
  {
   "cell_type": "code",
   "execution_count": 3,
   "metadata": {},
   "outputs": [
    {
     "name": "stdout",
     "output_type": "stream",
     "text": [
      "['Color' 'Gore Verbinski' 302.0 169.0 563.0 1000.0 'Orlando Bloom' 40000.0\n",
      " 309404152.0 'Action|Adventure|Fantasy' 'Johnny Depp'\n",
      " \"Pirates of the Caribbean: At World's End\\xa0\" 471220 48350\n",
      " 'Jack Davenport' 0.0\n",
      " 'goddess|marriage ceremony|marriage proposal|pirate|singapore'\n",
      " 'http://www.imdb.com/title/tt0449088/?ref_=fn_tt_tt_1' 1238.0 'English'\n",
      " 'USA' 'PG-13' 300000000.0 2007.0 5000.0 7.1 2.35 0]\n"
     ]
    }
   ],
   "source": [
    "print(data[1])"
   ]
  },
  {
   "cell_type": "code",
   "execution_count": 5,
   "metadata": {},
   "outputs": [
    {
     "name": "stdout",
     "output_type": "stream",
     "text": [
      "5043\n"
     ]
    }
   ],
   "source": [
    "#enter the length of movie titles, in names\n",
    "data = ds.get('movie_title')\n",
    "name_lengths = []\n",
    "for ix in data:\n",
    "    name_lengths.append(len(ix))\n",
    "print(len(name_lengths))"
   ]
  },
  {
   "cell_type": "code",
   "execution_count": 7,
   "metadata": {},
   "outputs": [
    {
     "name": "stdout",
     "output_type": "stream",
     "text": [
      "(5043,)\n"
     ]
    }
   ],
   "source": [
    "name_lengths = np.asarray(name_lengths)\n",
    "print(name_lengths.shape)"
   ]
  },
  {
   "cell_type": "code",
   "execution_count": 15,
   "metadata": {},
   "outputs": [
    {
     "name": "stdout",
     "output_type": "stream",
     "text": [
      "{7: 138, 41: 17, 8: 226, 22: 138, 55: 3, 12: 330, 13: 306, 24: 85, 39: 13, 35: 30, 17: 239, 18: 219, 43: 8, 16: 264, 44: 9, 15: 284, 42: 14, 23: 109, 11: 328, 36: 21, 19: 213, 10: 294, 27: 69, 20: 176, 32: 43, 26: 74, 25: 82, 14: 274, 21: 138, 31: 47, 51: 5, 6: 139, 5: 91, 63: 1, 3: 8, 9: 267, 38: 24, 28: 51, 29: 65, 34: 31, 57: 1, 47: 4, 4: 35, 37: 18, 48: 4, 46: 7, 40: 14, 45: 4, 49: 4, 50: 3, 30: 36, 33: 21, 2: 5, 59: 2, 60: 1, 56: 1, 84: 1, 54: 2, 87: 1, 53: 2, 72: 1, 69: 1, 80: 1, 67: 1}\n"
     ]
    }
   ],
   "source": [
    "length_freq = dict()\n",
    "for ix in range(len(name_lengths)):\n",
    "    try:\n",
    "        length_freq[name_lengths[ix]] += 1\n",
    "    except:\n",
    "        length_freq[name_lengths[ix]] = 1\n",
    "\n",
    "print(length_freq)"
   ]
  },
  {
   "cell_type": "code",
   "execution_count": 26,
   "metadata": {},
   "outputs": [
    {
     "name": "stdout",
     "output_type": "stream",
     "text": [
      "16.54967281380131 87 2\n"
     ]
    },
    {
     "data": {
      "image/png": "[encoded data removed]",
      "text/plain": [
       "<Figure size 432x288 with 1 Axes>"
      ]
     },
     "metadata": {
      "needs_background": "light"
     },
     "output_type": "display_data"
    },
    {
     "name": "stdout",
     "output_type": "stream",
     "text": [
      "16.54967281380131\n"
     ]
    }
   ],
   "source": [
    "print(name_lengths.mean(), name_lengths.max(), name_lengths.min())\n",
    "length_list = []\n",
    "for ix in range(name_lengths.max()+1):\n",
    "    try:\n",
    "        length_list.append(length_freq[ix])\n",
    "    except:\n",
    "        length_list.append(0)\n",
    "length_list = np.asarray(length_list)\n",
    "\n",
    "plt.figure(0)\n",
    "plt.plot(length_list)\n",
    "plt.show()\n",
    "print(name_lengths.mean())"
   ]
  },
  {
   "cell_type": "code",
   "execution_count": null,
   "metadata": {},
   "outputs": [],
   "source": []
  }
 ],
 "metadata": {
  "kernelspec": {
   "display_name": "Python 3",
   "language": "python",
   "name": "python3"
  },
  "language_info": {
   "codemirror_mode": {
    "name": "ipython",
    "version": 3
   },
   "file_extension": ".py",
   "mimetype": "text/x-python",
   "name": "python",
   "nbconvert_exporter": "python",
   "pygments_lexer": "ipython3",
   "version": "3.7.4"
  }
 },
 "nbformat": 4,
 "nbformat_minor": 2
}
