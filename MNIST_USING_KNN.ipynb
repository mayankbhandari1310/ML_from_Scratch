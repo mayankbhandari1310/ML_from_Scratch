{
 "cells": [
  {
   "cell_type": "code",
   "execution_count": 1,
   "metadata": {},
   "outputs": [],
   "source": [
    "import numpy as np\n",
    "import pandas as pd\n",
    "from matplotlib import pyplot as plt\n",
    "%matplotlib inline"
   ]
  },
  {
   "cell_type": "code",
   "execution_count": 2,
   "metadata": {},
   "outputs": [
    {
     "name": "stdout",
     "output_type": "stream",
     "text": [
      "(42000, 785)\n",
      "(42000, 785)\n"
     ]
    }
   ],
   "source": [
    "ds = pd.read_csv(\"MnistTrainingDataset/train.csv\")\n",
    "print(ds.shape)\n",
    "data = ds.values\n",
    "print(data.shape)"
   ]
  },
  {
   "cell_type": "code",
   "execution_count": 3,
   "metadata": {},
   "outputs": [
    {
     "name": "stdout",
     "output_type": "stream",
     "text": [
      "(42000,) (42000, 784)\n",
      "1\n"
     ]
    },
    {
     "data": {
      "image/png": "[encoded data removed]",
      "text/plain": [
       "<Figure size 432x288 with 1 Axes>"
      ]
     },
     "metadata": {
      "needs_background": "light"
     },
     "output_type": "display_data"
    }
   ],
   "source": [
    "y_train = data[:, 0]\n",
    "X_train = data[:, 1:]\n",
    "\n",
    "print(y_train.shape, X_train.shape)\n",
    "\n",
    "plt.figure(0)\n",
    "\n",
    "ind = 1000\n",
    "print(y_train[ind])\n",
    "plt.imshow(X_train[ind].reshape((28, 28)), cmap='gray')\n",
    "plt.show()"
   ]
  },
  {
   "cell_type": "code",
   "execution_count": 4,
   "metadata": {},
   "outputs": [],
   "source": [
    "class KNN:\n",
    "    def __init__(self, X=None, y=None):\n",
    "        self.X = X\n",
    "        self.y = y\n",
    "    \n",
    "    def fit(self, X, y):\n",
    "        self.X = X\n",
    "        self.y = y\n",
    "    \n",
    "    def distance(self, x1, x2):\n",
    "        return np.sqrt(((x1-x2)**2).sum())\n",
    "        \n",
    "    def predict(self, x, k=5):\n",
    "        vals = []\n",
    "        for ix in range(self.X.shape[0]):\n",
    "            dist = self.distance(x, self.X[ix, :])\n",
    "            v = [dist, self.y[ix]]\n",
    "            vals.append(v)\n",
    "        updated_vals = sorted(vals, key = lambda x:x[0])\n",
    "        pred_arr = np.asarray(updated_vals[:k])\n",
    "        #print(pred_arr)\n",
    "        #np.unique(array, return_counts) \n",
    "        #returns 2 arrays 1st with the unique classes, \n",
    "        #array with count of each class\n",
    "        pred_arr = np.unique(pred_arr[:, 1], return_counts=True)\n",
    "        pred_ind = pred_arr[1].argmax()\n",
    "        #argmax() -> returns the index, say index returned = pred_ind\n",
    "        #to return the predicted class,\n",
    "        #return the ith element from the first array returned by unique\n",
    "        #i.e. return pred_arr[0][pred_ind]\n",
    "        #in this code i am returning the class, as well as \n",
    "        #number of occurences of that class\n",
    "        return pred_arr"
   ]
  },
  {
   "cell_type": "code",
   "execution_count": 5,
   "metadata": {},
   "outputs": [],
   "source": [
    "knn = KNN()\n",
    "#X_train is of shape (n_examples, 784)\n",
    "knn.fit(X_train, y_train)"
   ]
  },
  {
   "cell_type": "code",
   "execution_count": 8,
   "metadata": {},
   "outputs": [
    {
     "name": "stdout",
     "output_type": "stream",
     "text": [
      "(array([7., 9.]), array([ 5, 16]))\n",
      "9.0\n"
     ]
    },
    {
     "data": {
      "image/png": "[encoded data removed]",
      "text/plain": [
       "<Figure size 432x288 with 1 Axes>"
      ]
     },
     "metadata": {
      "needs_background": "light"
     },
     "output_type": "display_data"
    }
   ],
   "source": [
    "query_ind = int(np.random.random()*X_train.shape[0])\n",
    "query_image = X_train[query_ind]\n",
    "result = knn.predict(query_image, k=21)\n",
    "#classes and corresponding frequencies\n",
    "print(result)\n",
    "#index of highest frequency\n",
    "pred_ind = result[1].argmax()\n",
    "#class with highest frequecy\n",
    "prediction = result[0][pred_ind]\n",
    "print(\"Prediction by KNN is: \", prediction)\n",
    "plt.figure(0)\n",
    "plt.imshow(query_image.reshape((28, 28)), cmap='gray')\n",
    "plt.show()"
   ]
  },
  {
   "cell_type": "code",
   "execution_count": null,
   "metadata": {},
   "outputs": [],
   "source": []
  }
 ],
 "metadata": {
  "kernelspec": {
   "display_name": "Python 3",
   "language": "python",
   "name": "python3"
  },
  "language_info": {
   "codemirror_mode": {
    "name": "ipython",
    "version": 3
   },
   "file_extension": ".py",
   "mimetype": "text/x-python",
   "name": "python",
   "nbconvert_exporter": "python",
   "pygments_lexer": "ipython3",
   "version": "3.7.4"
  }
 },
 "nbformat": 4,
 "nbformat_minor": 2
}
